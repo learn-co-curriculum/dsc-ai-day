{
 "cells": [
  {
   "cell_type": "markdown",
   "metadata": {},
   "source": [
    "# Introduction to Variables: \n",
    "# Variable Assignment - Lab"
   ]
  },
  {
   "cell_type": "markdown",
   "metadata": {},
   "source": [
    "## Introduction\n",
    "Now that we know about variables, we want to put them to use by associating them with some data.  Here, we will be using variables to store information related to a vacation that we would like to go on.\n",
    "\n",
    "Just as before, we ask you to run the code and ensure that it matches what is commented out."
   ]
  },
  {
   "cell_type": "markdown",
   "metadata": {},
   "source": [
    "## Objectives\n",
    "\n",
    "You will be able to:\n",
    "\n",
    "* Assign and declare a python variable"
   ]
  },
  {
   "cell_type": "markdown",
   "metadata": {},
   "source": [
    "## Assigning variables"
   ]
  },
  {
   "cell_type": "markdown",
   "metadata": {},
   "source": [
    "Assign the string \"January\" to the variable `travel_month`, as that is the month we would like to travel."
   ]
  },
  {
   "cell_type": "code",
   "execution_count": null,
   "metadata": {},
   "outputs": [],
   "source": [
    "travel_month = None"
   ]
  },
  {
   "cell_type": "markdown",
   "metadata": {},
   "source": [
    "> We start by setting the variable equal to the data type None.  As we know, `None` represents the absence of a value. Now we can take care of assigning the variable to something other than `None`."
   ]
  },
  {
   "cell_type": "code",
   "execution_count": null,
   "metadata": {},
   "outputs": [],
   "source": [
    "travel_month # \"January\""
   ]
  },
  {
   "cell_type": "markdown",
   "metadata": {},
   "source": [
    "Now let's assign a variable equal to the number of weeks that we would like to travel, 3. "
   ]
  },
  {
   "cell_type": "code",
   "execution_count": null,
   "metadata": {},
   "outputs": [],
   "source": [
    "number_of_weeks = None"
   ]
  },
  {
   "cell_type": "code",
   "execution_count": null,
   "metadata": {},
   "outputs": [],
   "source": [
    "number_of_weeks # 3"
   ]
  },
  {
   "cell_type": "markdown",
   "metadata": {},
   "source": [
    "UPDATE: we just learned that we can travel for a longer period of time. So, we need to reassign the `number_of_weeks` variable to 5."
   ]
  },
  {
   "cell_type": "code",
   "execution_count": null,
   "metadata": {},
   "outputs": [],
   "source": [
    "number_of_weeks # 5"
   ]
  },
  {
   "cell_type": "markdown",
   "metadata": {},
   "source": [
    "Now that's more like it.\n",
    "\n",
    "Finally, let's create a string that uses both of these variables to tell us how many weeks we will be traveling in our travel month. The string should read `\"I will be traveling 5 weeks starting in the month of January\"`. The process of using one or more variables as placeholders within a larger string is called **string interpolation**.  Interpolate the `num_of_weeks` and `travel_month` to get the correct string.\n",
    "\n",
    "> **Remember:** We can interpolate strings in the following ways:\n",
    "* \"Start of string\" + variable_to_interpolate_1 + \"middle\" + variable_to_interpolate_2 + \"end of string\"\n",
    "* \"Start of string {variable_1} middle {variable_2} end of string\".format(variable_1=variable_to_interpolate, variable_2=variable_to_interpolate)\n",
    "* f\"Start of string {variable_to_interpolate_1} middle {variable_to_interpolate_2} end of string\" "
   ]
  },
  {
   "cell_type": "code",
   "execution_count": null,
   "metadata": {},
   "outputs": [],
   "source": [
    "traveling_schedule = None"
   ]
  },
  {
   "cell_type": "markdown",
   "metadata": {},
   "source": [
    "### Summary"
   ]
  },
  {
   "cell_type": "markdown",
   "metadata": {},
   "source": [
    "Great! In this lab section, we were able to get some more practice with storing information in variables through assignment and reassignment."
   ]
  },
  {
   "cell_type": "markdown",
   "metadata": {},
   "source": [
    "### _______________________________________________________________________________________________"
   ]
  },
  {
   "cell_type": "markdown",
   "metadata": {},
   "source": [
    "# Strings - Lab"
   ]
  },
  {
   "cell_type": "markdown",
   "metadata": {},
   "source": [
    "## Introduction\n",
    "Okay, we have learned about our first data type, the String! Now let's do a little practice with strings. We'll use the methods and functions we introduced in the previous lesson to flex our string-manipulating muscles!"
   ]
  },
  {
   "cell_type": "markdown",
   "metadata": {},
   "source": [
    "## Objectives\n",
    "\n",
    "You will be able to:\n",
    "\n",
    "* Apply string methods to make changes to a string\n",
    "* Use concatenation to combine strings"
   ]
  },
  {
   "cell_type": "markdown",
   "metadata": {},
   "source": [
    "## Instructions\n",
    "\n",
    "Follow the steps below to manipulate the strings and assign the values to the variables below.\n",
    "\n",
    "**1.** Below, we have a sentence whose cases are all over the place. Let's normalize the cases and make everything lower case except the first letter in the sentence. **hint:** *there is a string method that does this*"
   ]
  },
  {
   "cell_type": "code",
   "execution_count": null,
   "metadata": {},
   "outputs": [],
   "source": [
    "sentence = \"woW WE LOVE cOdInG and strINGS!\"\n",
    "sentence"
   ]
  },
  {
   "cell_type": "markdown",
   "metadata": {},
   "source": [
    "**2.** Next, we have our Flatiron mantra, but it's not in title case like it should be! Let's fix that and use another string method that makes all strings first letter capitalized. "
   ]
  },
  {
   "cell_type": "code",
   "execution_count": null,
   "metadata": {},
   "outputs": [],
   "source": [
    "flatiron_mantra = \"learn. love. code.\"\n",
    "flatiron_mantra"
   ]
  },
  {
   "cell_type": "markdown",
   "metadata": {},
   "source": [
    "**3.** The next thing we want to do is practice turning other data types into strings. Below, we have a number `1234`, which happens to be our street number in our address, which is a string. So, let's turn the number into a string so we can eventually add it to our address. The process of linking different strings together is called **concatenation**. "
   ]
  },
  {
   "cell_type": "code",
   "execution_count": null,
   "metadata": {},
   "outputs": [],
   "source": [
    "num_to_string = 1234\n",
    "num_to_string"
   ]
  },
  {
   "cell_type": "markdown",
   "metadata": {},
   "source": [
    "**4.** Let's take the `num_to_string` and add it to the beginning of our street address below. We need to concatenate the variable to the beginning of our string so that we have our full address all in one string and assigned to the variable `full_address`. **hint:** `None` *is a placeholder in the below code for you to edit*"
   ]
  },
  {
   "cell_type": "code",
   "execution_count": null,
   "metadata": {},
   "outputs": [],
   "source": [
    "full_address = None + \" Abc street, Hometown USA\"\n",
    "full_address"
   ]
  },
  {
   "cell_type": "markdown",
   "metadata": {},
   "source": [
    "**5.** Finally, let's replace some of the characters in a string. Let's say Bart is upset with his family and wants to be adopted by the Flanders family. How would you replace his last name?\n",
    "\n",
    "**Hint:** We did not directly cover this method in the lesson. Check out the string helper docstring for a list of available methods. "
   ]
  },
  {
   "cell_type": "code",
   "execution_count": null,
   "metadata": {},
   "outputs": [],
   "source": [
    "help(str)"
   ]
  },
  {
   "cell_type": "code",
   "execution_count": null,
   "metadata": {},
   "outputs": [],
   "source": [
    "name = \"Bart Simpson\"\n",
    "name = #Your code here; update the variable name"
   ]
  },
  {
   "cell_type": "markdown",
   "metadata": {},
   "source": [
    "## Summary\n",
    "Great work! In this lab section we practiced our skills with strings. We can now manipulate, coerce, and concatenate strings. Remember if there are any things you can't remember or want to discover about code that isn't mentioned in this material, googling is always a great practice!"
   ]
  },
  {
   "cell_type": "markdown",
   "metadata": {},
   "source": [
    "### _______________________________________________________________________________________________"
   ]
  },
  {
   "cell_type": "markdown",
   "metadata": {},
   "source": [
    "# Strings and Numeric Types - CodeAlong\n",
    "\n",
    "## Introduction\n",
    "Now that we have learned about working with different types of data in Python: strings, numbers (ints and floats), and booleans, let's put that knowledge to the test. In this lab we'll imagine that we were at a nice social gathering and exchanged business cards with a few people. One of the business cards belongs to Art Vandelay, a new travel agent. We want to use our programming skills to format this information correctly. \n",
    "\n",
    "## Objectives\n",
    "\n",
    "You will be able to:\n",
    "\n",
    "* Apply string methods to make changes to a string\n",
    "* Use concatenation to combine strings\n",
    "* Perform basic mathematical operations with numeric data types\n",
    "\n",
    "## Instructions\n",
    "\n",
    "The next morning we take out the business card, ready to format it using our programming skills, and here is what we find.\n",
    "\n",
    "![](https://learn-verified.s3.amazonaws.com/data-science-assets/biz-card-mistakes.jpg)\n",
    "\n",
    "Yeah, Mr. Vandelay may not be the best at designing business cards, but like Mr. Vandelay, we know that people enter incorrect information on forms all the time.\n",
    "\n",
    "So as Data Scientists, we often need to clean and organize data before we can make sense of it.  Let's get to work. \n",
    "\n",
    "In this exercise, we'll see that there is some data already provided for us.  Next to the data, we will see a comment indicating what the data should look like after we change it.  \n",
    "\n",
    "> Comments are indicated in Python by a `#` followed by text. They do not get run and will not affect our code. Here we are using them to show what the intended output should be.\n",
    "\n",
    "For example, let's say we want to capitalize all of the letters of \"art vandelay\".  We'll see the following:"
   ]
  },
  {
   "cell_type": "code",
   "execution_count": null,
   "metadata": {
    "collapsed": true,
    "jupyter": {
     "outputs_hidden": true
    }
   },
   "outputs": [],
   "source": [
    "\"art vandelay\" # \"ART VANDELAY\""
   ]
  },
  {
   "cell_type": "markdown",
   "metadata": {},
   "source": [
    "> **Reminder:** *to **run** the code in a jupyter notebook, press shift + enter after selecting the cell you would like to run.*\n",
    "\n",
    "To get our output to match the comment we can use the `upper()` method as shown here:"
   ]
  },
  {
   "cell_type": "code",
   "execution_count": null,
   "metadata": {
    "collapsed": true,
    "jupyter": {
     "outputs_hidden": true
    }
   },
   "outputs": [],
   "source": [
    "\"art vandelay\".upper() # 'ART VANDELAY'"
   ]
  },
  {
   "cell_type": "markdown",
   "metadata": {},
   "source": [
    "## Get Going with Strings\n",
    "\n",
    "Our first problem will be to capitalize the first letter of each word in `\"art vandelay\"`. Find the correct string method to capitalize both the first and last names."
   ]
  },
  {
   "cell_type": "code",
   "execution_count": null,
   "metadata": {
    "tags": []
   },
   "outputs": [],
   "source": [
    "art_vandelay = \"art vandelay\" # 'Art Vandelay'\n",
    "art_vandelay"
   ]
  },
  {
   "cell_type": "markdown",
   "metadata": {},
   "source": [
    "Now let's turn all the letters of \"Ceo\" to uppercase."
   ]
  },
  {
   "cell_type": "code",
   "execution_count": null,
   "metadata": {
    "tags": []
   },
   "outputs": [],
   "source": [
    "ceo = \"Ceo\" # 'CEO'\n",
    "ceo"
   ]
  },
  {
   "cell_type": "markdown",
   "metadata": {},
   "source": [
    "Next we will need our code to answer a question about email addresses. Every email address should end with \".com\". Find the right string method to check if the email address ends with `\".com\"` and return `True` or `False` accordingly. "
   ]
  },
  {
   "cell_type": "code",
   "execution_count": null,
   "metadata": {
    "tags": []
   },
   "outputs": [],
   "source": [
    "ends_with_com = \"art.vandelay@vandelay.co\" # False\n",
    "ends_with_com"
   ]
  },
  {
   "cell_type": "markdown",
   "metadata": {},
   "source": [
    "As you can see below, the website `\"vandelay.com\"` is not preceded by `\"www.\"`. We can perform what is called string concatenation to fix this! Use the plus sign, `'+'`, to change the website `'vandelay.com'` to the string `'www.vandelay.com'` by prepending `'www.'`."
   ]
  },
  {
   "cell_type": "code",
   "execution_count": null,
   "metadata": {
    "scrolled": true,
    "tags": []
   },
   "outputs": [],
   "source": [
    "web_address = 'vandelay.com' # 'www.vandelay.com'\n",
    "web_address"
   ]
  },
  {
   "cell_type": "markdown",
   "metadata": {},
   "source": [
    "## Working with Numbers\n",
    "\n",
    "Finally, Mr. Vandelay gave us his phone number, but he actually has two other phone numbers that are different from the one listed on his business card.  All three numbers are basically the same with the exception of the ending. Below, start by coercing the first phone number, which is currently a string, to an `int` and add one. Next do the same to the second phone number but increase it by two."
   ]
  },
  {
   "cell_type": "code",
   "execution_count": null,
   "metadata": {
    "tags": []
   },
   "outputs": [],
   "source": [
    "phone_num_one = \"7285553334\" # 7285553335\n",
    "phone_num_one "
   ]
  },
  {
   "cell_type": "code",
   "execution_count": null,
   "metadata": {
    "tags": []
   },
   "outputs": [],
   "source": [
    "phone_num_two = \"7285553334\" # 7285553336\n",
    "phone_num_two"
   ]
  },
  {
   "cell_type": "markdown",
   "metadata": {},
   "source": [
    "## Summary\n",
    "\n",
    "In this lab section, we practiced working with string methods to operate on and answer questions about strings. We wrote methods that return Booleans and changed strings to integers in order to perform addition. So much of working with data is ensuring that it is properly formatted so we can then operate on it, and in this lab, we saw how to use code to do just that."
   ]
  },
  {
   "cell_type": "markdown",
   "metadata": {},
   "source": [
    "### _______________________________________________________________________________________________"
   ]
  },
  {
   "cell_type": "markdown",
   "metadata": {},
   "source": [
    "# Control Flow: Conditionals - Lab\n",
    "\n",
    "## Introduction\n",
    "Now that you have been introduced to conditionals, let's put your knowledge to test and create some conditional statements that selectively assign values to variables based on whether they pass the conditions we set.\n",
    "\n",
    "## Objectives\n",
    "\n",
    "You will be able to:\n",
    "\n",
    "* Use Python conditional statements\n",
    "\n",
    "## Instructions\n",
    "\n",
    "Let's use our knowledge of variables and conditionals to assign values based on different conditions. Follow the instructions below to properly assign the values.\n",
    "\n",
    "With the given code in the cell below, use what you know about numbers and conditionals to assign a value to `my_number` and follow the directions given in the comments below. Use this as a guide to structuring the rest of the problems in this lab."
   ]
  },
  {
   "cell_type": "code",
   "execution_count": null,
   "metadata": {},
   "outputs": [],
   "source": [
    "number_50 = 50\n",
    "my_number = None\n",
    "if number_50 > 100:\n",
    "    # if number_50 is greater than 100, assign the `my_number` variable to the number 100\n",
    "elif number_50 > 50:\n",
    "    # if number_50 is greater than 50, assign the `my_number` variable to the number 50\n",
    "else:\n",
    "    # else assign the `my_number` variable to 0"
   ]
  },
  {
   "cell_type": "markdown",
   "metadata": {},
   "source": [
    "Below, use conditionals to tell whether it is hot outside or not. If it is hot, assign the string `\"It is so hot out!\"` to the variable `is_it_hot`. If it is not hot, assign the string `\"This is nothing! Bring on the heat.\"`. For our purposes, anything over `80` degrees is considered hot."
   ]
  },
  {
   "cell_type": "code",
   "execution_count": null,
   "metadata": {},
   "outputs": [],
   "source": [
    "temperature = 85\n",
    "is_it_hot = None\n",
    "# conditionals go here"
   ]
  },
  {
   "cell_type": "markdown",
   "metadata": {},
   "source": [
    "Next, let's see what day of the week it is. There are 7 days in the week starting with Sunday at day `1` and ending with Saturday at day `7`. Use conditional statements to assign the day of the week to the variable `day_of_the_week` based on the number below assigned to the variable `today_is`.\n",
    "For example, if the day is `2`, we would assign `day_of_the_week` the value `\"Monday\"`."
   ]
  },
  {
   "cell_type": "code",
   "execution_count": null,
   "metadata": {},
   "outputs": [],
   "source": [
    "today_is = 4\n",
    "day_of_the_week = None\n",
    "# conditionals go here"
   ]
  },
  {
   "cell_type": "markdown",
   "metadata": {},
   "source": [
    "Finally, let's take a string and see if it ends with a certain substring. If it does, assign the variable `ends_with` to `True`, and if it does not, assign it to `False`. For example, if have the string \"School\" and we want to know if it ends with the sub-string \"cool\". In this case it does not, so, we would assign `False` to the variable `ends_with`. "
   ]
  },
  {
   "cell_type": "code",
   "execution_count": null,
   "metadata": {},
   "outputs": [],
   "source": [
    "string = \"Python\"\n",
    "sub_string = \"on\"\n",
    "ends_with = None\n",
    "# conditionals go here"
   ]
  },
  {
   "cell_type": "markdown",
   "metadata": {},
   "source": [
    "## Summary\n",
    "\n",
    "Great! In this lab section we saw how to use our knowedge of conditionals to selectively assign values based on a condition. We will start integrating conditionals in many more ways in our code and we will start to see how useful they can become in more complex problems."
   ]
  },
  {
   "cell_type": "code",
   "execution_count": null,
   "metadata": {},
   "outputs": [],
   "source": []
  }
 ],
 "metadata": {
  "kernelspec": {
   "display_name": "Python 3",
   "language": "python",
   "name": "python3"
  },
  "language_info": {
   "codemirror_mode": {
    "name": "ipython",
    "version": 3
   },
   "file_extension": ".py",
   "mimetype": "text/x-python",
   "name": "python",
   "nbconvert_exporter": "python",
   "pygments_lexer": "ipython3",
   "version": "3.8.8"
  }
 },
 "nbformat": 4,
 "nbformat_minor": 4
}
